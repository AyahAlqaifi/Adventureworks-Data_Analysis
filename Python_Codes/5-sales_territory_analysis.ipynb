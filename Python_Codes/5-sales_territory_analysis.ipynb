{
 "cells": [
  {
   "cell_type": "markdown",
   "metadata": {},
   "source": [
    "### Sales Territory Analysis "
   ]
  },
  {
   "cell_type": "markdown",
   "metadata": {},
   "source": [
    "#####  Analyse the Sales.SalesTerritory table to identify the top 5 territories with the highest year-to-date (YTD) sales, determine the total sales across all territories, and calculate the average sales per territory.\n"
   ]
  },
  {
   "cell_type": "code",
   "execution_count": 1,
   "metadata": {},
   "outputs": [
    {
     "name": "stdout",
     "output_type": "stream",
     "text": [
      "---------------------------------------------------------\n",
      "Top 5 Territories with Highest YTD Sales:\n",
      "   TerritoryID            Name      SalesYTD\n",
      "3            4       Southwest  1.051085e+07\n",
      "0            1       Northwest  7.887187e+06\n",
      "5            6          Canada  6.771829e+06\n",
      "8            9       Australia  5.977815e+06\n",
      "9           10  United Kingdom  5.012905e+06\n",
      "Total Sales Across All Territories: $52,751,209.95\n",
      "Average Sales Per Territory: $5,275,121.00\n"
     ]
    },
    {
     "name": "stderr",
     "output_type": "stream",
     "text": [
      "c:\\Users\\ayah\\anaconda3\\lib\\site-packages\\pandas\\io\\sql.py:762: UserWarning: pandas only support SQLAlchemy connectable(engine/connection) ordatabase string URI or sqlite3 DBAPI2 connectionother DBAPI2 objects are not tested, please consider using SQLAlchemy\n",
      "  warnings.warn(\n"
     ]
    }
   ],
   "source": [
    "import pandas as pd\n",
    "import pyodbc\n",
    "\n",
    "# Establish a database connection\n",
    "conn = pyodbc.connect(\n",
    "    r'DRIVER={ODBC Driver 17 for SQL Server};'\n",
    "    r'SERVER=********\\SQLEXPRESS;'\n",
    "    r'DATABASE=AdventureWorks2022;'\n",
    "    r'Trusted_Connection=yes;'\n",
    ")\n",
    "\n",
    "# Define the SQL query\n",
    "sql_query = \"\"\"\n",
    "    SELECT TerritoryID, Name, SalesYTD\n",
    "    FROM Sales.SalesTerritory\n",
    "\"\"\"\n",
    "\n",
    "# Execute the query and load the results into a pandas DataFrame\n",
    "territory_df = pd.read_sql(sql_query, conn)\n",
    "\n",
    "# Close the database connection\n",
    "conn.close()\n",
    "\n",
    "# Identify the top 5 territories with highest YTD sales\n",
    "top_territories = territory_df.sort_values(by='SalesYTD', ascending=False).head(5)\n",
    "\n",
    "# Determine the total sales across all territories\n",
    "total_sales = territory_df['SalesYTD'].sum()\n",
    "\n",
    "# Calculate the average sales per territory\n",
    "average_sales_per_territory = territory_df['SalesYTD'].mean()\n",
    "\n",
    "# Print the results\n",
    "print('---------------------------------------------------------')\n",
    "print(f'Top 5 Territories with Highest YTD Sales:\\n{top_territories}')\n",
    "print(f'Total Sales Across All Territories: ${total_sales:,.2f}')\n",
    "print(f'Average Sales Per Territory: ${average_sales_per_territory:,.2f}')\n"
   ]
  }
 ],
 "metadata": {
  "kernelspec": {
   "display_name": "base",
   "language": "python",
   "name": "python3"
  },
  "language_info": {
   "codemirror_mode": {
    "name": "ipython",
    "version": 3
   },
   "file_extension": ".py",
   "mimetype": "text/x-python",
   "name": "python",
   "nbconvert_exporter": "python",
   "pygments_lexer": "ipython3",
   "version": "3.9.13"
  }
 },
 "nbformat": 4,
 "nbformat_minor": 2
}
