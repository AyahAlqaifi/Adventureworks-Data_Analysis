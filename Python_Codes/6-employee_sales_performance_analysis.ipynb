{
 "cells": [
  {
   "cell_type": "markdown",
   "metadata": {},
   "source": [
    "### Employee Sales Performance Analysis "
   ]
  },
  {
   "cell_type": "markdown",
   "metadata": {},
   "source": [
    "##### Analyse the Sales.SalesOrderHeader table to calculate the total number of sales orders processed by each salesperson, identify the top 5 salespersons with the highest number of sales orders processed, and determine the average number of sales orders processed per salesperson."
   ]
  },
  {
   "cell_type": "code",
   "execution_count": 1,
   "metadata": {},
   "outputs": [
    {
     "name": "stdout",
     "output_type": "stream",
     "text": [
      "---------------------------------------------------------\n",
      "Top 5 Salespersons with Highest Number of Sales Orders Processed:\n",
      "               SalesOrderNumber\n",
      "SalesPersonID                  \n",
      "277                         473\n",
      "275                         450\n",
      "279                         429\n",
      "276                         418\n",
      "289                         348\n",
      "Average Number of Sales Orders Processed Per Salesperson: 223.88\n"
     ]
    },
    {
     "name": "stderr",
     "output_type": "stream",
     "text": [
      "c:\\Users\\ayah\\anaconda3\\lib\\site-packages\\pandas\\io\\sql.py:762: UserWarning: pandas only support SQLAlchemy connectable(engine/connection) ordatabase string URI or sqlite3 DBAPI2 connectionother DBAPI2 objects are not tested, please consider using SQLAlchemy\n",
      "  warnings.warn(\n"
     ]
    }
   ],
   "source": [
    "import pandas as pd\n",
    "import pyodbc\n",
    "\n",
    "# Establish a database connection\n",
    "conn = pyodbc.connect(\n",
    "    r'DRIVER={ODBC Driver 17 for SQL Server};'\n",
    "    r'SERVER=********\\SQLEXPRESS;'\n",
    "    r'DATABASE=AdventureWorks2022;'\n",
    "    r'Trusted_Connection=yes;'\n",
    ")\n",
    "\n",
    "# Define the SQL query\n",
    "sql_query = \"\"\"\n",
    "    SELECT SalesOrderNumber, SalesPersonID\n",
    "    FROM Sales.SalesOrderHeader\n",
    "    WHERE SalesPersonID IS NOT NULL\n",
    "\"\"\"\n",
    "\n",
    "# Execute the query and load the results into a pandas DataFrame\n",
    "sales_count_df = pd.read_sql(sql_query, conn)\n",
    "\n",
    "# Close the database connection\n",
    "conn.close()\n",
    "\n",
    "# Calculate the total number of sales orders per salesperson\n",
    "sales_count_per_person = sales_count_df.groupby('SalesPersonID').agg({'SalesOrderNumber':'count'})\n",
    "\n",
    "# Identify the top 5 salespersons by the highest number of sales orders processed\n",
    "all_salespersons = sales_count_per_person.sort_values(by='SalesOrderNumber', ascending=False)\n",
    "top_5_salespersons = all_salespersons.head()\n",
    "\n",
    "# Determine the average number of sales orders processed per salesperson\n",
    "average_sales_per_salespersons = all_salespersons['SalesOrderNumber'].mean()\n",
    "\n",
    "# Print the results\n",
    "print('---------------------------------------------------------')\n",
    "print(f'Top 5 Salespersons with Highest Number of Sales Orders Processed:\\n{top_5_salespersons}')\n",
    "print(f'Average Number of Sales Orders Processed Per Salesperson: {average_sales_per_salespersons:.2f}')\n"
   ]
  }
 ],
 "metadata": {
  "kernelspec": {
   "display_name": "base",
   "language": "python",
   "name": "python3"
  },
  "language_info": {
   "codemirror_mode": {
    "name": "ipython",
    "version": 3
   },
   "file_extension": ".py",
   "mimetype": "text/x-python",
   "name": "python",
   "nbconvert_exporter": "python",
   "pygments_lexer": "ipython3",
   "version": "3.9.13"
  }
 },
 "nbformat": 4,
 "nbformat_minor": 2
}
