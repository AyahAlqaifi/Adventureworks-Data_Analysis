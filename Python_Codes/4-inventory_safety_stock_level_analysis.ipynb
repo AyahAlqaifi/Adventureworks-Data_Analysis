{
 "cells": [
  {
   "cell_type": "markdown",
   "metadata": {},
   "source": [
    "### Inventory Safety Stock Level Analysis "
   ]
  },
  {
   "cell_type": "markdown",
   "metadata": {},
   "source": [
    "#####  Analyse the Production.Product table to identify the top 10 products with the highest safety stock levels, determine the total safety stock level for all products, and calculate the average safety stock level across all products."
   ]
  },
  {
   "cell_type": "code",
   "execution_count": 1,
   "metadata": {},
   "outputs": [
    {
     "name": "stdout",
     "output_type": "stream",
     "text": [
      "---------------------------------------------------------\n",
      "Top 10 Products with Highest Safety Stock Levels:\n",
      "    ProductID               Name  SafetyStockLevel  ReorderPoint\n",
      "0           1    Adjustable Race              1000           750\n",
      "1           2       Bearing Ball              1000           750\n",
      "8         320    Chainring Bolts              1000           750\n",
      "9         321      Chainring Nut              1000           750\n",
      "10        322          Chainring              1000           750\n",
      "11        323         Crown Race              1000           750\n",
      "12        324        Chain Stays              1000           750\n",
      "13        325            Decal 1              1000           750\n",
      "14        326            Decal 2              1000           750\n",
      "16        328  Mountain End Caps              1000           750\n",
      "Total Safety Stock Level for All Products: 269716\n",
      "Average Safety Stock Level: 535.15\n"
     ]
    },
    {
     "name": "stderr",
     "output_type": "stream",
     "text": [
      "c:\\Users\\ayah\\anaconda3\\lib\\site-packages\\pandas\\io\\sql.py:762: UserWarning: pandas only support SQLAlchemy connectable(engine/connection) ordatabase string URI or sqlite3 DBAPI2 connectionother DBAPI2 objects are not tested, please consider using SQLAlchemy\n",
      "  warnings.warn(\n"
     ]
    }
   ],
   "source": [
    "import pandas as pd\n",
    "import pyodbc\n",
    "\n",
    "# Establish a database connection\n",
    "conn = pyodbc.connect(\n",
    "    r'DRIVER={ODBC Driver 17 for SQL Server};'\n",
    "    r'SERVER=********\\SQLEXPRESS;'\n",
    "    r'DATABASE=AdventureWorks2022;'\n",
    "    r'Trusted_Connection=yes;'\n",
    ")\n",
    "\n",
    "# Define the SQL query\n",
    "sql_query = \"\"\"\n",
    "SELECT ProductID, Name, SafetyStockLevel, ReorderPoint\n",
    "FROM Production.Product;\n",
    "\"\"\"\n",
    "\n",
    "# Execute the SQL query and store the result in a pandas DataFrame\n",
    "inventory_df = pd.read_sql(sql_query, conn)\n",
    "\n",
    "# Close the database connection\n",
    "conn.close()\n",
    "\n",
    "# Identify the top 10 products with the highest safety stock levels\n",
    "top_10_products = inventory_df.nlargest(10, 'SafetyStockLevel')\n",
    "\n",
    "# Determine the total safety stock level for all products\n",
    "total_safety_stock_level = inventory_df['SafetyStockLevel'].sum()\n",
    "\n",
    "# Calculate the average safety stock level across all products\n",
    "average_safety_stock_level = inventory_df['SafetyStockLevel'].mean()\n",
    "\n",
    "# Print the results\n",
    "print('---------------------------------------------------------')\n",
    "print(f'Top 10 Products with Highest Safety Stock Levels:\\n{top_10_products}')\n",
    "print(f'Total Safety Stock Level for All Products: {total_safety_stock_level}')\n",
    "print(f'Average Safety Stock Level: {average_safety_stock_level:.2f}')\n"
   ]
  }
 ],
 "metadata": {
  "kernelspec": {
   "display_name": "base",
   "language": "python",
   "name": "python3"
  },
  "language_info": {
   "codemirror_mode": {
    "name": "ipython",
    "version": 3
   },
   "file_extension": ".py",
   "mimetype": "text/x-python",
   "name": "python",
   "nbconvert_exporter": "python",
   "pygments_lexer": "ipython3",
   "version": "3.9.13"
  }
 },
 "nbformat": 4,
 "nbformat_minor": 2
}
