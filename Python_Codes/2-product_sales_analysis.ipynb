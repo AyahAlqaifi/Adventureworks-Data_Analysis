{
 "cells": [
  {
   "cell_type": "markdown",
   "metadata": {},
   "source": [
    "### Product Sales Analysis "
   ]
  },
  {
   "cell_type": "markdown",
   "metadata": {},
   "source": [
    "#####  Analyse the Sales.SalesOrderDetail table to calculate the total sales for each product, identify the top 5 products with the highest total sales, and determine the average sales per product."
   ]
  },
  {
   "cell_type": "code",
   "execution_count": 1,
   "metadata": {},
   "outputs": [
    {
     "name": "stderr",
     "output_type": "stream",
     "text": [
      "c:\\Users\\ayah\\anaconda3\\lib\\site-packages\\pandas\\io\\sql.py:762: UserWarning: pandas only support SQLAlchemy connectable(engine/connection) ordatabase string URI or sqlite3 DBAPI2 connectionother DBAPI2 objects are not tested, please consider using SQLAlchemy\n",
      "  warnings.warn(\n"
     ]
    },
    {
     "name": "stdout",
     "output_type": "stream",
     "text": [
      "---------------------------------------------------------\n",
      "Top 5 Products with Highest Total Sales:\n",
      "              LineTotal\n",
      "ProductID              \n",
      "782        4.400593e+06\n",
      "783        4.009495e+06\n",
      "779        3.693678e+06\n",
      "780        3.438479e+06\n",
      "781        3.434257e+06\n",
      "Average Sales Per Product: $412,956.32\n"
     ]
    }
   ],
   "source": [
    "import pandas as pd\n",
    "import pyodbc\n",
    "\n",
    "# Establish a database connection\n",
    "conn = pyodbc.connect(\n",
    "    r'DRIVER={ODBC Driver 17 for SQL Server};'\n",
    "    r'SERVER=******\\SQLEXPRESS;'\n",
    "    r'DATABASE=AdventureWorks2022;'\n",
    "    r'Trusted_Connection=yes;'\n",
    ")\n",
    "\n",
    "# Define the SQL query\n",
    "sql_query = \"\"\"\n",
    "SELECT ProductID, LineTotal\n",
    "FROM [Sales].[SalesOrderDetail];\n",
    "\"\"\"\n",
    "\n",
    "# Execute the SQL query and store the result in a pandas DataFrame\n",
    "sales_data = pd.read_sql(sql_query, conn)\n",
    "\n",
    "# Close the database connection\n",
    "conn.close()\n",
    "\n",
    "# Calculate total sales for each product\n",
    "product_sales = sales_data.groupby('ProductID').agg({'LineTotal': 'sum'})\n",
    "\n",
    "# Identify the top 5 products with the highest total sales\n",
    "top_5_products = product_sales.nlargest(5, 'LineTotal')\n",
    "\n",
    "# Determine the average sales per product\n",
    "average_sales_per_product = product_sales['LineTotal'].mean()\n",
    "\n",
    "# Print the results\n",
    "print('---------------------------------------------------------')\n",
    "print(f'Top 5 Products with Highest Total Sales:\\n{top_5_products}')\n",
    "print(f'Average Sales Per Product: ${average_sales_per_product:,.2f}')\n"
   ]
  }
 ],
 "metadata": {
  "kernelspec": {
   "display_name": "base",
   "language": "python",
   "name": "python3"
  },
  "language_info": {
   "codemirror_mode": {
    "name": "ipython",
    "version": 3
   },
   "file_extension": ".py",
   "mimetype": "text/x-python",
   "name": "python",
   "nbconvert_exporter": "python",
   "pygments_lexer": "ipython3",
   "version": "3.9.13"
  }
 },
 "nbformat": 4,
 "nbformat_minor": 2
}
