{
 "cells": [
  {
   "cell_type": "markdown",
   "metadata": {},
   "source": [
    "### Customer Demographics Analysis "
   ]
  },
  {
   "cell_type": "markdown",
   "metadata": {},
   "source": [
    "#####  Analyse the Sales.Customer table to determine the total number of customers, identify the number of individual customers (where PersonID is not NULL) and the number of store customers (where StoreID is not NULL), and calculate the percentage of individual customers and store customers."
   ]
  },
  {
   "cell_type": "code",
   "execution_count": 1,
   "metadata": {},
   "outputs": [
    {
     "name": "stderr",
     "output_type": "stream",
     "text": [
      "c:\\Users\\ayah\\anaconda3\\lib\\site-packages\\pandas\\io\\sql.py:762: UserWarning: pandas only support SQLAlchemy connectable(engine/connection) ordatabase string URI or sqlite3 DBAPI2 connectionother DBAPI2 objects are not tested, please consider using SQLAlchemy\n",
      "  warnings.warn(\n"
     ]
    },
    {
     "name": "stdout",
     "output_type": "stream",
     "text": [
      "---------------------------------------------------------\n",
      "Total Number of Customers: 19820\n",
      "Number of Individual Customers: 19119, Percentage: 96.46%\n",
      "Number of Store Customers: 1336, Percentage: 6.74%\n"
     ]
    }
   ],
   "source": [
    "import pandas as pd\n",
    "import pyodbc\n",
    "\n",
    "# Establish a database connection\n",
    "conn = pyodbc.connect(\n",
    "    r'DRIVER={ODBC Driver 17 for SQL Server};'\n",
    "    r'SERVER=********\\SQLEXPRESS;'\n",
    "    r'DATABASE=AdventureWorks2022;'\n",
    "    r'Trusted_Connection=yes;'\n",
    ")\n",
    "\n",
    "# Define the SQL query\n",
    "sql_query = \"\"\"\n",
    "SELECT CustomerID, PersonID, StoreID\n",
    "FROM [Sales].[Customer];\n",
    "\"\"\"\n",
    "\n",
    "# Execute the SQL query and store the result in a pandas DataFrame\n",
    "customer_data = pd.read_sql(sql_query, conn)\n",
    "\n",
    "# Close the database connection\n",
    "conn.close()\n",
    "\n",
    "# Determine the total number of customers\n",
    "total_customers = customer_data['CustomerID'].nunique()\n",
    "\n",
    "# Identify the number of individual customers and the number of store customers\n",
    "individual_customers = customer_data['PersonID'].notnull().sum()\n",
    "store_customers = customer_data['StoreID'].notnull().sum()\n",
    "\n",
    "# Calculate the percentage of individual customers and store customers\n",
    "percentage_individual_customers = (individual_customers / total_customers) * 100\n",
    "percentage_store_customers = (store_customers / total_customers) * 100\n",
    "\n",
    "# Print the results\n",
    "print('---------------------------------------------------------')\n",
    "print(f'Total Number of Customers: {total_customers}')\n",
    "print(f'Number of Individual Customers: {individual_customers}, Percentage: {percentage_individual_customers:.2f}%')\n",
    "print(f'Number of Store Customers: {store_customers}, Percentage: {percentage_store_customers:.2f}%')\n"
   ]
  }
 ],
 "metadata": {
  "kernelspec": {
   "display_name": "base",
   "language": "python",
   "name": "python3"
  },
  "language_info": {
   "codemirror_mode": {
    "name": "ipython",
    "version": 3
   },
   "file_extension": ".py",
   "mimetype": "text/x-python",
   "name": "python",
   "nbconvert_exporter": "python",
   "pygments_lexer": "ipython3",
   "version": "3.9.13"
  }
 },
 "nbformat": 4,
 "nbformat_minor": 2
}
