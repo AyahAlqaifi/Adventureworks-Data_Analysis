{
 "cells": [
  {
   "cell_type": "markdown",
   "metadata": {},
   "source": [
    "### Customer Purchasing Behaviour Analysis"
   ]
  },
  {
   "cell_type": "markdown",
   "metadata": {},
   "source": [
    "#####  Analyse the Sales.SalesOrderHeader table to calculate the total number of orders placed by each customer, determine the total monetary value of purchases made by each customer, identify the top 5 customers with the highest monetary value of purchases, and determine the average monetary value of purchases per order.\n"
   ]
  },
  {
   "cell_type": "code",
   "execution_count": 2,
   "metadata": {},
   "outputs": [
    {
     "name": "stdout",
     "output_type": "stream",
     "text": [
      "---------------------------------------------------------\n",
      "Top 5 Customers with Highest Monetary Value of Purchases:\n",
      "            TotalOrders  TotalPurchaseValue\n",
      "CustomerID                                 \n",
      "29818                12         989184.0820\n",
      "29715                12         961675.8596\n",
      "29722                12         954021.9235\n",
      "30117                12         919801.8188\n",
      "29614                12         901346.8560\n",
      "Average Purchase Value Per Order: $3,916.00\n"
     ]
    }
   ],
   "source": [
    "import pandas as pd\n",
    "import pyodbc\n",
    "\n",
    "# Establish a database connection\n",
    "conn = pyodbc.connect(\n",
    "    r'DRIVER={ODBC Driver 17 for SQL Server};'\n",
    "    r'SERVER=********\\SQLEXPRESS;'\n",
    "    r'DATABASE=AdventureWorks2022;'\n",
    "    r'Trusted_Connection=yes;'\n",
    ")\n",
    "\n",
    "# Define the SQL query\n",
    "sql_query = \"\"\"\n",
    "SELECT CustomerID, SalesOrderID, TotalDue \n",
    "FROM [Sales].[SalesOrderHeader];\n",
    "\"\"\"\n",
    "\n",
    "# Execute the SQL query and store the result in a pandas DataFrame\n",
    "customer_data = pd.read_sql(sql_query, conn)\n",
    "\n",
    "# Close the database connection\n",
    "conn.close()\n",
    "\n",
    "# Calculate the total number of orders placed by each customer\n",
    "total_orders_per_customer = customer_data.groupby('CustomerID')['SalesOrderID'].count()\n",
    "# purchases_df = customer_data.groupby('CustomerID').agg({'SalesOrderID': 'count', 'TotalDue': 'sum'})\n",
    "\n",
    "# Determine the total monetary value of purchases made by each customer\n",
    "total_purchase_value_per_customer = customer_data.groupby('CustomerID')['TotalDue'].sum()\n",
    "\n",
    "# Create a DataFrame with the results\n",
    "purchases_df = pd.DataFrame({\n",
    "    'TotalOrders': total_orders_per_customer,\n",
    "    'TotalPurchaseValue': total_purchase_value_per_customer\n",
    "})\n",
    "\n",
    "# Identify the top 5 customers with the highest monetary value of purchases\n",
    "top_5_customers = purchases_df.nlargest(5, 'TotalPurchaseValue')\n",
    "\n",
    "# Determine the average monetary value of purchases per order\n",
    "average_purchase_value_per_order = customer_data['TotalDue'].mean()\n",
    "\n",
    "# Print the results\n",
    "print('---------------------------------------------------------')\n",
    "print(f'Top 5 Customers with Highest Monetary Value of Purchases:\\n{top_5_customers}')\n",
    "print(f'Average Purchase Value Per Order: ${average_purchase_value_per_order:,.2f}')\n"
   ]
  }
 ],
 "metadata": {
  "kernelspec": {
   "display_name": "base",
   "language": "python",
   "name": "python3"
  },
  "language_info": {
   "codemirror_mode": {
    "name": "ipython",
    "version": 3
   },
   "file_extension": ".py",
   "mimetype": "text/x-python",
   "name": "python",
   "nbconvert_exporter": "python",
   "pygments_lexer": "ipython3",
   "version": "3.9.13"
  }
 },
 "nbformat": 4,
 "nbformat_minor": 2
}
