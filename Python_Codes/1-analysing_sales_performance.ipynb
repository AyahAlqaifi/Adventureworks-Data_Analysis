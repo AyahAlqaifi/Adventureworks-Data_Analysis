{
 "cells": [
  {
   "cell_type": "markdown",
   "metadata": {},
   "source": [
    "### Analysing Sales Performance"
   ]
  },
  {
   "cell_type": "markdown",
   "metadata": {},
   "source": [
    "#####  Perform a sales analysis on the Sales.SalesOrderHeader table to ascertain the month with the highest sales, and compute the average monthly sales based on the database records."
   ]
  },
  {
   "cell_type": "code",
   "execution_count": 2,
   "metadata": {},
   "outputs": [
    {
     "name": "stderr",
     "output_type": "stream",
     "text": [
      "c:\\Users\\ayah\\anaconda3\\lib\\site-packages\\pandas\\io\\sql.py:762: UserWarning: pandas only support SQLAlchemy connectable(engine/connection) ordatabase string URI or sqlite3 DBAPI2 connectionother DBAPI2 objects are not tested, please consider using SQLAlchemy\n",
      "  warnings.warn(\n"
     ]
    },
    {
     "name": "stdout",
     "output_type": "stream",
     "text": [
      "---------------------------------------------------------\n",
      "Month with Highest Sales: (2014, 3), Sales Amount: $8,097,036.31\n",
      "Average Monthly Sales: $3,242,547.00\n"
     ]
    }
   ],
   "source": [
    "# Import necessary libraries\n",
    "import pandas as pd\n",
    "import pyodbc\n",
    "\n",
    "# 1. Establish a database connection\n",
    "conn = pyodbc.connect(\n",
    "    r'DRIVER={ODBC Driver 17 for SQL Server};'\n",
    "    r'SERVER=*********\\SQLEXPRESS;'\n",
    "    r'DATABASE=AdventureWorks2022;'\n",
    "    r'Trusted_Connection=yes;'\n",
    ")\n",
    "\n",
    "# 2. Define the SQL query to retrieve sales data\n",
    "sql_query = \"\"\"\n",
    "SELECT SalesOrderID, OrderDate, TotalDue\n",
    "FROM [Sales].[SalesOrderHeader];\n",
    "\"\"\"\n",
    "\n",
    "# 3. Execute the SQL query and store the result in a pandas DataFrame\n",
    "sales_data = pd.read_sql(sql_query, conn)\n",
    "\n",
    "# 4. Close the database connection\n",
    "conn.close()\n",
    "\n",
    "# 5. Data Processing\n",
    "# Convert OrderDate to datetime format\n",
    "sales_data['OrderDate'] = pd.to_datetime(sales_data['OrderDate'])\n",
    "\n",
    "# Extract year and month from OrderDate\n",
    "sales_data['Year'] = sales_data['OrderDate'].dt.year\n",
    "sales_data['Month'] = sales_data['OrderDate'].dt.month\n",
    "\n",
    "# Calculate total sales for each month\n",
    "monthly_sales = sales_data.groupby(['Year', 'Month']).agg({'TotalDue': 'sum'})\n",
    "\n",
    "# 6. Analysis\n",
    "# Identify the month with the highest sales\n",
    "highest_sales_month = monthly_sales.idxmax()[0] \n",
    "highest_sales_value = monthly_sales.max()[0]\n",
    "\n",
    "# Determine the average sales per month\n",
    "average_monthly_sales = monthly_sales.mean()[0]\n",
    "\n",
    "# 7. Print the results\n",
    "print('---------------------------------------------------------')\n",
    "print(f'Month with Highest Sales: {highest_sales_month}, Sales Amount: ${highest_sales_value:,.2f}')\n",
    "print(f'Average Monthly Sales: ${average_monthly_sales:,.2f}')\n"
   ]
  }
 ],
 "metadata": {
  "kernelspec": {
   "display_name": "base",
   "language": "python",
   "name": "python3"
  },
  "language_info": {
   "codemirror_mode": {
    "name": "ipython",
    "version": 3
   },
   "file_extension": ".py",
   "mimetype": "text/x-python",
   "name": "python",
   "nbconvert_exporter": "python",
   "pygments_lexer": "ipython3",
   "version": "3.9.13"
  }
 },
 "nbformat": 4,
 "nbformat_minor": 2
}
